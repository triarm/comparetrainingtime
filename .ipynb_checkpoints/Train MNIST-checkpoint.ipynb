{
 "cells": [
  {
   "cell_type": "code",
   "execution_count": 30,
   "id": "092f1350",
   "metadata": {},
   "outputs": [],
   "source": [
    "import pandas as pd\n",
    "import numpy as np\n",
    "import matplotlib.pyplot as plt\n",
    "import tensorflow as tf\n",
    "from PIL import Image\n",
    "\n",
    "import time"
   ]
  },
  {
   "cell_type": "code",
   "execution_count": 31,
   "id": "402383ba",
   "metadata": {},
   "outputs": [],
   "source": [
    "# Load Dataset\n",
    "from tensorflow.keras.datasets import mnist\n",
    "from tensorflow.keras.utils import to_categorical\n",
    "\n",
    "(X_train, y_train), (X_test, y_test) = mnist.load_data()"
   ]
  },
  {
   "cell_type": "code",
   "execution_count": 41,
   "id": "92a928cc",
   "metadata": {},
   "outputs": [],
   "source": [
    "# Load dataset\n",
    "def load_dataset():\n",
    "\n",
    "    (trainX, trainY), (testX, testY) = mnist.load_data()\n",
    "\n",
    "    trainX = trainX.reshape((trainX.shape[0], 28, 28, 1))\n",
    "    testX = testX.reshape((testX.shape[0], 28, 28, 1))\n",
    "    \n",
    "    train_norm = trainX.astype('float32')\n",
    "    train_norm = train_norm/255\n",
    "    \n",
    "    test_norm = testX.astype('float32')\n",
    "    test_norm = test_norm/255\n",
    "\n",
    "    trainY = to_categorical(trainY)\n",
    "    testY = to_categorical(testY)\n",
    "\n",
    "\n",
    "    return train_norm, trainY, test_norm, testY"
   ]
  },
  {
   "cell_type": "code",
   "execution_count": 42,
   "id": "267f7608",
   "metadata": {},
   "outputs": [],
   "source": [
    "def create_model():\n",
    "    model = tf.keras.models.Sequential([\n",
    "        tf.keras.layers.Conv2D(32, (3, 3), activation='relu', input_shape=(28, 28, 1)),\n",
    "        tf.keras.layers.MaxPooling2D(2, 2),\n",
    "        tf.keras.layers.Conv2D(16, (3, 3), activation='relu', padding = 'same'),\n",
    "        tf.keras.layers.MaxPooling2D(2, 2),\n",
    "        tf.keras.layers.Flatten(),\n",
    "        tf.keras.layers.Dropout(0.5),\n",
    "        tf.keras.layers.Dense(32, activation='relu'),\n",
    "        tf.keras.layers.Dense(10, activation='softmax')\n",
    "    ])\n",
    "    \n",
    "    model.compile(optimizer=tf.keras.optimizers.Adam(learning_rate=1e-4),\n",
    "                    loss='categorical_crossentropy',\n",
    "                    metrics=['accuracy'])\n",
    "    \n",
    "    \n",
    "    return model"
   ]
  },
  {
   "cell_type": "code",
   "execution_count": 43,
   "id": "081b9a74",
   "metadata": {},
   "outputs": [],
   "source": [
    "X_train, y_train, X_test, y_test = load_dataset()\n",
    "model = create_model()"
   ]
  },
  {
   "cell_type": "code",
   "execution_count": 45,
   "id": "d02ed6d7",
   "metadata": {},
   "outputs": [
    {
     "name": "stdout",
     "output_type": "stream",
     "text": [
      "Epoch 1/20\n",
      "1875/1875 - 67s - loss: 0.9977 - accuracy: 0.6634 - val_loss: 0.3056 - val_accuracy: 0.9165\n",
      "Epoch 2/20\n",
      "1875/1875 - 64s - loss: 0.3686 - accuracy: 0.8848 - val_loss: 0.1821 - val_accuracy: 0.9475\n",
      "Epoch 3/20\n",
      "1875/1875 - 52s - loss: 0.2578 - accuracy: 0.9197 - val_loss: 0.1345 - val_accuracy: 0.9607\n",
      "Epoch 4/20\n",
      "1875/1875 - 52s - loss: 0.2054 - accuracy: 0.9375 - val_loss: 0.1072 - val_accuracy: 0.9680\n",
      "Epoch 5/20\n",
      "1875/1875 - 64s - loss: 0.1780 - accuracy: 0.9460 - val_loss: 0.0950 - val_accuracy: 0.9709\n",
      "Epoch 6/20\n",
      "1875/1875 - 52s - loss: 0.1586 - accuracy: 0.9511 - val_loss: 0.0818 - val_accuracy: 0.9759\n",
      "Epoch 7/20\n",
      "1875/1875 - 54s - loss: 0.1439 - accuracy: 0.9561 - val_loss: 0.0723 - val_accuracy: 0.9772\n",
      "Epoch 8/20\n",
      "1875/1875 - 52s - loss: 0.1334 - accuracy: 0.9589 - val_loss: 0.0678 - val_accuracy: 0.9786\n",
      "Epoch 9/20\n",
      "1875/1875 - 66s - loss: 0.1243 - accuracy: 0.9617 - val_loss: 0.0617 - val_accuracy: 0.9803\n",
      "Epoch 10/20\n",
      "1875/1875 - 53s - loss: 0.1172 - accuracy: 0.9625 - val_loss: 0.0591 - val_accuracy: 0.9809\n",
      "Epoch 11/20\n",
      "1875/1875 - 53s - loss: 0.1134 - accuracy: 0.9645 - val_loss: 0.0536 - val_accuracy: 0.9826\n",
      "Epoch 12/20\n",
      "1875/1875 - 53s - loss: 0.1078 - accuracy: 0.9660 - val_loss: 0.0530 - val_accuracy: 0.9839\n",
      "Epoch 13/20\n",
      "1875/1875 - 52s - loss: 0.1031 - accuracy: 0.9678 - val_loss: 0.0494 - val_accuracy: 0.9848\n",
      "Epoch 14/20\n",
      "1875/1875 - 65s - loss: 0.0992 - accuracy: 0.9693 - val_loss: 0.0484 - val_accuracy: 0.9843\n",
      "Epoch 15/20\n",
      "1875/1875 - 52s - loss: 0.0975 - accuracy: 0.9693 - val_loss: 0.0470 - val_accuracy: 0.9855\n",
      "Epoch 16/20\n",
      "1875/1875 - 53s - loss: 0.0935 - accuracy: 0.9715 - val_loss: 0.0460 - val_accuracy: 0.9856\n",
      "Epoch 17/20\n",
      "1875/1875 - 60s - loss: 0.0932 - accuracy: 0.9707 - val_loss: 0.0450 - val_accuracy: 0.9860\n",
      "Epoch 18/20\n",
      "1875/1875 - 62s - loss: 0.0900 - accuracy: 0.9720 - val_loss: 0.0433 - val_accuracy: 0.9866\n",
      "Epoch 19/20\n",
      "1875/1875 - 53s - loss: 0.0855 - accuracy: 0.9730 - val_loss: 0.0417 - val_accuracy: 0.9869\n",
      "Epoch 20/20\n",
      "1875/1875 - 54s - loss: 0.0859 - accuracy: 0.9740 - val_loss: 0.0418 - val_accuracy: 0.9864\n"
     ]
    }
   ],
   "source": [
    "start = time.time()\n",
    "history = model.fit(x = X_train,\n",
    "                     y = y_train,\n",
    "                     epochs = 20,\n",
    "                     batch_size = 32,\n",
    "                     validation_data = (X_test, y_test),\n",
    "                     verbose = 2)\n",
    "end = time.time()"
   ]
  },
  {
   "cell_type": "code",
   "execution_count": 46,
   "id": "3e82da04",
   "metadata": {},
   "outputs": [
    {
     "name": "stdout",
     "output_type": "stream",
     "text": [
      "Duration : 1132.70 s\n"
     ]
    }
   ],
   "source": [
    "duration = end - start\n",
    "print(f'Duration : {duration:.2f} s')"
   ]
  },
  {
   "cell_type": "code",
   "execution_count": 47,
   "id": "84739dac",
   "metadata": {},
   "outputs": [
    {
     "name": "stdout",
     "output_type": "stream",
     "text": [
      "Processor Machine: AMD64\n",
      "OS: Windows-10-10.0.19044-SP0\n",
      "Processor Name: AMD64 Family 22 Model 48 Stepping 1, AuthenticAMD\n"
     ]
    }
   ],
   "source": [
    "import platform\n",
    "print(f'Processor Machine: {platform.machine()}')\n",
    "print(f'OS: {platform.platform()}')\n",
    "print(f'Processor Name: {platform.processor()}')"
   ]
  },
  {
   "cell_type": "code",
   "execution_count": 20,
   "id": "c23dd61b",
   "metadata": {},
   "outputs": [
    {
     "data": {
      "text/plain": [
       "['\\r',\n",
       " 'Host Name:                 TRIA\\r',\n",
       " 'OS Name:                   Microsoft Windows 10 Pro\\r',\n",
       " 'OS Version:                10.0.19044 N/A Build 19044\\r',\n",
       " 'OS Manufacturer:           Microsoft Corporation\\r',\n",
       " 'OS Configuration:          Standalone Workstation\\r',\n",
       " 'OS Build Type:             Multiprocessor Free\\r',\n",
       " 'Registered Owner:          HP\\r',\n",
       " 'Registered Organization:   \\r',\n",
       " 'Product ID:                00330-80198-58029-AA889\\r',\n",
       " 'Original Install Date:     7/18/2021, 10:40:53 PM\\r',\n",
       " 'System Boot Time:          6/3/2022, 7:45:14 AM\\r',\n",
       " 'System Manufacturer:       HP\\r',\n",
       " 'System Model:              HP Notebook\\r',\n",
       " 'System Type:               x64-based PC\\r',\n",
       " 'Processor(s):              1 Processor(s) Installed.\\r',\n",
       " '                           [01]: AMD64 Family 22 Model 48 Stepping 1 AuthenticAMD ~2200 Mhz\\r',\n",
       " 'BIOS Version:              Insyde F.10, 7/25/2016\\r',\n",
       " 'Windows Directory:         C:\\\\WINDOWS\\r',\n",
       " 'System Directory:          C:\\\\WINDOWS\\\\system32\\r',\n",
       " 'Boot Device:               \\\\Device\\\\HarddiskVolume2\\r',\n",
       " 'System Locale:             en-us;English (United States)\\r',\n",
       " 'Input Locale:              en-us;English (United States)\\r',\n",
       " 'Time Zone:                 (UTC+07:00) Bangkok, Hanoi, Jakarta\\r',\n",
       " 'Total Physical Memory:     7,130 MB\\r',\n",
       " 'Available Physical Memory: 1,095 MB\\r',\n",
       " 'Virtual Memory: Max Size:  11,482 MB\\r',\n",
       " 'Virtual Memory: Available: 2,778 MB\\r',\n",
       " 'Virtual Memory: In Use:    8,704 MB\\r',\n",
       " 'Page File Location(s):     C:\\\\pagefile.sys\\r',\n",
       " 'Domain:                    WORKGROUP\\r',\n",
       " 'Logon Server:              \\\\\\\\TRIA\\r',\n",
       " 'Hotfix(s):                 10 Hotfix(s) Installed.\\r',\n",
       " '                           [01]: KB5013624\\r',\n",
       " '                           [02]: KB4562830\\r',\n",
       " '                           [03]: KB5003791\\r',\n",
       " '                           [04]: KB5013942\\r',\n",
       " '                           [05]: KB5006753\\r',\n",
       " '                           [06]: KB5007273\\r',\n",
       " '                           [07]: KB5011352\\r',\n",
       " '                           [08]: KB5011651\\r',\n",
       " '                           [09]: KB5014032\\r',\n",
       " '                           [10]: KB5005699\\r',\n",
       " 'Network Card(s):           3 NIC(s) Installed.\\r',\n",
       " '                           [01]: TAP-Windows Adapter V9\\r',\n",
       " '                                 Connection Name: Ethernet 2\\r',\n",
       " '                                 Status:          Media disconnected\\r',\n",
       " '                           [02]: Realtek PCIe FE Family Controller\\r',\n",
       " '                                 Connection Name: Ethernet\\r',\n",
       " '                                 Status:          Media disconnected\\r',\n",
       " '                           [03]: Realtek RTL8723BE 802.11 bgn Wi-Fi Adapter\\r',\n",
       " '                                 Connection Name: Wi-Fi\\r',\n",
       " '                                 DHCP Enabled:    Yes\\r',\n",
       " '                                 DHCP Server:     192.168.0.1\\r',\n",
       " '                                 IP address(es)\\r',\n",
       " '                                 [01]: 192.168.0.109\\r',\n",
       " '                                 [02]: fe80::4ccd:5fc1:6258:cd72\\r',\n",
       " 'Hyper-V Requirements:      VM Monitor Mode Extensions: Yes\\r',\n",
       " '                           Virtualization Enabled In Firmware: Yes\\r',\n",
       " '                           Second Level Address Translation: Yes\\r',\n",
       " '                           Data Execution Prevention Available: Yes\\r',\n",
       " '']"
      ]
     },
     "execution_count": 20,
     "metadata": {},
     "output_type": "execute_result"
    }
   ],
   "source": [
    "import subprocess\n",
    " \n",
    "# traverse the info\n",
    "Id = subprocess.check_output(['systeminfo']).decode('utf-8').split('\\n')\n",
    "\n",
    "Id"
   ]
  },
  {
   "cell_type": "code",
   "execution_count": 26,
   "id": "b560063f",
   "metadata": {},
   "outputs": [
    {
     "name": "stdout",
     "output_type": "stream",
     "text": [
      "Total: 6.96 GB\n",
      "Available: 1.14 GB\n",
      "Used: 5.82 GB\n",
      "Percentage: 83.6%\n"
     ]
    }
   ],
   "source": [
    "import psutil\n",
    "\n",
    "svmem = psutil.virtual_memory()\n",
    "print(f\"Total: {svmem.total/(1024 ** 3):.2f} GB\")\n",
    "print(f\"Available: {svmem.available/(1024 ** 3):.2f} GB\")\n",
    "print(f\"Used: {svmem.used/(1024 ** 3):.2f} GB\")\n",
    "print(f\"Percentage: {svmem.percent}%\")"
   ]
  }
 ],
 "metadata": {
  "kernelspec": {
   "display_name": "compare_training",
   "language": "python",
   "name": "compare_training"
  },
  "language_info": {
   "codemirror_mode": {
    "name": "ipython",
    "version": 3
   },
   "file_extension": ".py",
   "mimetype": "text/x-python",
   "name": "python",
   "nbconvert_exporter": "python",
   "pygments_lexer": "ipython3",
   "version": "3.9.12"
  },
  "toc": {
   "base_numbering": 1,
   "nav_menu": {},
   "number_sections": true,
   "sideBar": true,
   "skip_h1_title": false,
   "title_cell": "Table of Contents",
   "title_sidebar": "Contents",
   "toc_cell": false,
   "toc_position": {},
   "toc_section_display": true,
   "toc_window_display": false
  }
 },
 "nbformat": 4,
 "nbformat_minor": 5
}
