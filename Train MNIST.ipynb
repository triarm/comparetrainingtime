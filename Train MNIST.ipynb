{
 "cells": [
  {
   "cell_type": "markdown",
   "id": "8ace9f7d",
   "metadata": {},
   "source": [
    "# Compare Training Time in Different Hardware"
   ]
  },
  {
   "cell_type": "markdown",
   "id": "c4289f05",
   "metadata": {},
   "source": [
    "**Description**: Pada notebook ini, akan dibangun model CNN untuk proses pengenalan karakter tulisan tangan untuk digit 0-9 yang berasal dari dataset MNIST yang sudah disediakan oleh Tensorflow. Notebook ini akan dijalankan pada beberapa perangkat yang berbeda dengan spesifikasi yang berbeda kemudian akan dibandingkan waktu trainingnya untuk melihat apakah ada perbedaan yang signifikan untuk setiap spesifikasi perangkat yang berbeda.\n",
    "\n",
    "**Objective**: Membandingkan waktu training model pada beberapa tipe hardware berbeda (CPU, RAM size, GPU)"
   ]
  },
  {
   "cell_type": "markdown",
   "id": "7731de11",
   "metadata": {},
   "source": [
    "## Import Library"
   ]
  },
  {
   "cell_type": "code",
   "execution_count": 1,
   "id": "092f1350",
   "metadata": {},
   "outputs": [],
   "source": [
    "import pandas as pd\n",
    "import numpy as np\n",
    "import matplotlib.pyplot as plt\n",
    "import tensorflow as tf\n",
    "from PIL import Image\n",
    "\n",
    "# Load Dataset\n",
    "from tensorflow.keras.datasets import mnist\n",
    "from tensorflow.keras.utils import to_categorical\n",
    "\n",
    "import time"
   ]
  },
  {
   "cell_type": "markdown",
   "id": "bce5684e",
   "metadata": {},
   "source": [
    "## Preprocessing Data"
   ]
  },
  {
   "cell_type": "markdown",
   "id": "b5b26408",
   "metadata": {},
   "source": [
    "Pada bagian ini, akan dibuat fungsi untuk melakukan preprocessing data yaitu fungsi `load_dataset()`. Fungsi tersebut akan mencoba untuk memuat data, resizing gambar, normalisasi gambar, dan mengubah tipe data target variabel menjadi tipe kategorikal. Selain itu akan dibangun juga fungsi `create_model()` yang berfungsi untuk membangun model CNN untuk mengenali karakter"
   ]
  },
  {
   "cell_type": "code",
   "execution_count": 2,
   "id": "92a928cc",
   "metadata": {},
   "outputs": [],
   "source": [
    "# Load dataset\n",
    "def load_dataset():\n",
    "    '''\n",
    "    Function to load and preprocessing the dataset\n",
    "    '''\n",
    "    \n",
    "    # Load data\n",
    "    (trainX, trainY), (testX, testY) = mnist.load_data()\n",
    "    \n",
    "    # Reshaping data\n",
    "    trainX = trainX.reshape((trainX.shape[0], 28, 28, 1))\n",
    "    testX = testX.reshape((testX.shape[0], 28, 28, 1))\n",
    "    \n",
    "    # Normalize data\n",
    "    train_norm = trainX.astype('float32')\n",
    "    train_norm = train_norm/255\n",
    "    \n",
    "    test_norm = testX.astype('float32')\n",
    "    test_norm = test_norm/255\n",
    "\n",
    "    # Change target variable to categorical type\n",
    "    trainY = to_categorical(trainY)\n",
    "    testY = to_categorical(testY)\n",
    "\n",
    "\n",
    "    return train_norm, trainY, test_norm, testY"
   ]
  },
  {
   "cell_type": "markdown",
   "id": "f0d2165b",
   "metadata": {},
   "source": [
    "Berikut adalah ilustrasi model CNN yang akan dibuat:\n",
    "\n",
    "![](./assets/model.png)"
   ]
  },
  {
   "cell_type": "code",
   "execution_count": 3,
   "id": "267f7608",
   "metadata": {},
   "outputs": [],
   "source": [
    "def create_model():\n",
    "    '''\n",
    "    Function to create model and setup training configuration\n",
    "    '''\n",
    "    \n",
    "    # Model architecture\n",
    "    model = tf.keras.models.Sequential([\n",
    "        tf.keras.layers.Conv2D(16, (3, 3), activation='relu', input_shape=(28, 28, 1)),\n",
    "        tf.keras.layers.MaxPooling2D(2, 2),\n",
    "        tf.keras.layers.Flatten(),\n",
    "        tf.keras.layers.Dropout(0.5),\n",
    "        tf.keras.layers.Dense(16, activation='relu'),\n",
    "        tf.keras.layers.Dense(10, activation='softmax')\n",
    "    ])\n",
    "    \n",
    "    # Configuration training\n",
    "    model.compile(optimizer=tf.keras.optimizers.Adam(learning_rate=1e-3),\n",
    "                    loss='categorical_crossentropy',\n",
    "                    metrics=['accuracy'])\n",
    "    \n",
    "    \n",
    "    return model"
   ]
  },
  {
   "cell_type": "markdown",
   "id": "68cbceee",
   "metadata": {},
   "source": [
    "## Execution"
   ]
  },
  {
   "cell_type": "markdown",
   "id": "02d94f44",
   "metadata": {},
   "source": [
    "Pada bagian ini kita akan menjalankan fungsi yang telah dibuat sebelumnya. Kemudian, dilanjut dengan proses training hingga 20 epochs. Kemudian akan dihitung waktu yang dibutuhkan untuk menjalankan proses training tersebut."
   ]
  },
  {
   "cell_type": "code",
   "execution_count": 4,
   "id": "081b9a74",
   "metadata": {},
   "outputs": [],
   "source": [
    "# Call the function\n",
    "X_train, y_train, X_test, y_test = load_dataset()\n",
    "model = create_model()"
   ]
  },
  {
   "cell_type": "code",
   "execution_count": 5,
   "id": "d02ed6d7",
   "metadata": {},
   "outputs": [
    {
     "name": "stdout",
     "output_type": "stream",
     "text": [
      "Epoch 1/20\n",
      "1875/1875 - 28s - loss: 0.3320 - accuracy: 0.9002 - val_loss: 0.1163 - val_accuracy: 0.9660\n",
      "Epoch 2/20\n",
      "1875/1875 - 24s - loss: 0.1483 - accuracy: 0.9551 - val_loss: 0.0854 - val_accuracy: 0.9744\n",
      "Epoch 3/20\n",
      "1875/1875 - 24s - loss: 0.1179 - accuracy: 0.9627 - val_loss: 0.0699 - val_accuracy: 0.9764\n",
      "Epoch 4/20\n",
      "1875/1875 - 23s - loss: 0.1060 - accuracy: 0.9676 - val_loss: 0.0624 - val_accuracy: 0.9805\n",
      "Epoch 5/20\n",
      "1875/1875 - 22s - loss: 0.0965 - accuracy: 0.9703 - val_loss: 0.0553 - val_accuracy: 0.9818\n",
      "Epoch 6/20\n",
      "1875/1875 - 24s - loss: 0.0886 - accuracy: 0.9722 - val_loss: 0.0591 - val_accuracy: 0.9797\n",
      "Epoch 7/20\n",
      "1875/1875 - 22s - loss: 0.0808 - accuracy: 0.9742 - val_loss: 0.0534 - val_accuracy: 0.9818\n",
      "Epoch 8/20\n",
      "1875/1875 - 23s - loss: 0.0773 - accuracy: 0.9760 - val_loss: 0.0515 - val_accuracy: 0.9822\n",
      "Epoch 9/20\n",
      "1875/1875 - 24s - loss: 0.0732 - accuracy: 0.9765 - val_loss: 0.0496 - val_accuracy: 0.9828\n",
      "Epoch 10/20\n",
      "1875/1875 - 35s - loss: 0.0699 - accuracy: 0.9773 - val_loss: 0.0467 - val_accuracy: 0.9837\n",
      "Epoch 11/20\n",
      "1875/1875 - 27s - loss: 0.0665 - accuracy: 0.9786 - val_loss: 0.0475 - val_accuracy: 0.9844\n",
      "Epoch 12/20\n",
      "1875/1875 - 21s - loss: 0.0644 - accuracy: 0.9797 - val_loss: 0.0466 - val_accuracy: 0.9853\n",
      "Epoch 13/20\n",
      "1875/1875 - 21s - loss: 0.0613 - accuracy: 0.9805 - val_loss: 0.0461 - val_accuracy: 0.9838\n",
      "Epoch 14/20\n",
      "1875/1875 - 22s - loss: 0.0614 - accuracy: 0.9806 - val_loss: 0.0437 - val_accuracy: 0.9849\n",
      "Epoch 15/20\n",
      "1875/1875 - 21s - loss: 0.0584 - accuracy: 0.9813 - val_loss: 0.0447 - val_accuracy: 0.9852\n",
      "Epoch 16/20\n",
      "1875/1875 - 21s - loss: 0.0588 - accuracy: 0.9808 - val_loss: 0.0435 - val_accuracy: 0.9868\n",
      "Epoch 17/20\n",
      "1875/1875 - 23s - loss: 0.0547 - accuracy: 0.9826 - val_loss: 0.0433 - val_accuracy: 0.9863\n",
      "Epoch 18/20\n",
      "1875/1875 - 20s - loss: 0.0552 - accuracy: 0.9819 - val_loss: 0.0465 - val_accuracy: 0.9852\n",
      "Epoch 19/20\n",
      "1875/1875 - 21s - loss: 0.0528 - accuracy: 0.9824 - val_loss: 0.0429 - val_accuracy: 0.9858\n",
      "Epoch 20/20\n",
      "1875/1875 - 23s - loss: 0.0535 - accuracy: 0.9825 - val_loss: 0.0414 - val_accuracy: 0.9864\n"
     ]
    }
   ],
   "source": [
    "# Training model\n",
    "start = time.time()\n",
    "history = model.fit(x = X_train,\n",
    "                     y = y_train,\n",
    "                     epochs = 20,\n",
    "                     batch_size = 32,\n",
    "                     validation_data = (X_test, y_test),\n",
    "                     verbose = 2)\n",
    "end = time.time()"
   ]
  },
  {
   "cell_type": "code",
   "execution_count": 6,
   "id": "3e82da04",
   "metadata": {},
   "outputs": [
    {
     "name": "stdout",
     "output_type": "stream",
     "text": [
      "Duration : 469.15 s\n",
      "Duration per Epoch : 23.46 s\n"
     ]
    }
   ],
   "source": [
    "# Calculate the duration\n",
    "duration = end - start\n",
    "print(f'Duration : {duration:.2f} s')\n",
    "print(f'Duration per Epoch : {(duration/20):.2f} s')"
   ]
  },
  {
   "cell_type": "markdown",
   "id": "bef2dc51",
   "metadata": {},
   "source": [
    "## Hardware Specification"
   ]
  },
  {
   "cell_type": "markdown",
   "id": "209f9921",
   "metadata": {},
   "source": [
    "Pada bagian ini, kita akan mengambil informasi terkait spesifikasi hardware dari perangkat yang digunakan."
   ]
  },
  {
   "cell_type": "code",
   "execution_count": 7,
   "id": "84739dac",
   "metadata": {},
   "outputs": [
    {
     "name": "stdout",
     "output_type": "stream",
     "text": [
      "Processor Machine: AMD64\n",
      "OS: Windows-10-10.0.19044-SP0\n",
      "Processor Name: AMD64 Family 22 Model 48 Stepping 1, AuthenticAMD\n"
     ]
    }
   ],
   "source": [
    "# Check CPU\n",
    "import platform\n",
    "print(f'Processor Machine: {platform.machine()}')\n",
    "print(f'OS: {platform.platform()}')\n",
    "print(f'Processor Name: {platform.processor()}')"
   ]
  },
  {
   "cell_type": "code",
   "execution_count": 8,
   "id": "b560063f",
   "metadata": {},
   "outputs": [
    {
     "name": "stdout",
     "output_type": "stream",
     "text": [
      "Total: 6.96 GB\n",
      "Available: 2.18 GB\n",
      "Used: 4.78 GB\n",
      "Percentage: 68.7%\n"
     ]
    }
   ],
   "source": [
    "# Check RAM\n",
    "import psutil\n",
    "\n",
    "svmem = psutil.virtual_memory()\n",
    "print(f\"Total: {svmem.total/(1024 ** 3):.2f} GB\")\n",
    "print(f\"Available: {svmem.available/(1024 ** 3):.2f} GB\")\n",
    "print(f\"Used: {svmem.used/(1024 ** 3):.2f} GB\")\n",
    "print(f\"Percentage: {svmem.percent}%\")"
   ]
  },
  {
   "cell_type": "code",
   "execution_count": 9,
   "id": "de9f9e78",
   "metadata": {},
   "outputs": [
    {
     "data": {
      "text/plain": [
       "[]"
      ]
     },
     "execution_count": 9,
     "metadata": {},
     "output_type": "execute_result"
    }
   ],
   "source": [
    "# Check GPU\n",
    "tf.config.list_physical_devices('GPU')"
   ]
  }
 ],
 "metadata": {
  "kernelspec": {
   "display_name": "compare_training",
   "language": "python",
   "name": "compare_training"
  },
  "language_info": {
   "codemirror_mode": {
    "name": "ipython",
    "version": 3
   },
   "file_extension": ".py",
   "mimetype": "text/x-python",
   "name": "python",
   "nbconvert_exporter": "python",
   "pygments_lexer": "ipython3",
   "version": "3.9.12"
  },
  "toc": {
   "base_numbering": 1,
   "nav_menu": {},
   "number_sections": true,
   "sideBar": true,
   "skip_h1_title": false,
   "title_cell": "Table of Contents",
   "title_sidebar": "Contents",
   "toc_cell": false,
   "toc_position": {},
   "toc_section_display": true,
   "toc_window_display": false
  }
 },
 "nbformat": 4,
 "nbformat_minor": 5
}
